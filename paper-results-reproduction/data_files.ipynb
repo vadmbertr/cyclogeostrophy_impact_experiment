{
 "cells": [
  {
   "cell_type": "markdown",
   "metadata": {},
   "source": [
    "This notebook details how to go from Datasets and DataFrames created by running experiment [scripts](../../scripts/) to data files used to produce the figures of the paper ...\n",
    "\n",
    "Bare in mind that it involves manipulating large Datasets and therefore a system with a significant amount of RAM is recommended."
   ]
  },
  {
   "cell_type": "code",
   "execution_count": 1,
   "metadata": {},
   "outputs": [],
   "source": [
    "import sys\n",
    "\n",
    "import IPython\n",
    "import numpy as np\n",
    "import pandas as pd\n",
    "import xarray as xr"
   ]
  },
  {
   "cell_type": "code",
   "execution_count": 2,
   "metadata": {},
   "outputs": [],
   "source": [
    "# Works in VS-Code only, hard-code it if necessary\n",
    "nb_dir = \"/\".join(\n",
    "   IPython.extract_module_locals()[1][\"__vsc_ipynb_file__\"].split(\"/\")[:-1]\n",
    ")\n",
    "sys.path.append(f\"{nb_dir}/src\")\n",
    "\n",
    "from aggregate import max_of_n_time_rolling_mean\n",
    "from binning import compute_spatial_binned_errors, compute_eke_binned_errors\n",
    "from domain import remove_equatorial_band, restrict_df_to_neurost_timeperiod, restrict_ds_to_neurost_timeperiod\n",
    "from interpolate import gridded_eke_to_drifters_observations"
   ]
  },
  {
   "cell_type": "markdown",
   "metadata": {},
   "source": [
    "# Loading experiments Datasets and DataFrames"
   ]
  },
  {
   "cell_type": "code",
   "execution_count": 3,
   "metadata": {},
   "outputs": [],
   "source": [
    "# CAN / SHOULD BE UPDATED TO REPRODUCE\n",
    "\n",
    "EXPERIMENTS_PATH = \"/mnt/summer/DATA_MEOM/workdir/bertrava/cyclogeostrophy-paper\"\n",
    "\n",
    "NEUROST_PATH = f\"{EXPERIMENTS_PATH}/neurost-global/2025-02-07/14-50-54/results\"\n",
    "NEUROST_IT_PATH = f\"{EXPERIMENTS_PATH}/neurost-global/2025-02-07/14-29-44/results\"\n",
    "DUACS_PATH = f\"{EXPERIMENTS_PATH}/duacs-global/2025-02-07/14-56-12/results\"\n",
    "DUACS_IT_PATH = f\"{EXPERIMENTS_PATH}/duacs-global/2025-02-09/10-55-14/results\"\n",
    "\n",
    "DATA_FILES_PATH = f\"{nb_dir}/data-files\""
   ]
  },
  {
   "cell_type": "code",
   "execution_count": 4,
   "metadata": {},
   "outputs": [],
   "source": [
    "def open_dataset(path: str) -> xr.Dataset:\n",
    "    ds = xr.open_zarr(path)\n",
    "    return remove_equatorial_band(ds)\n",
    "\n",
    "\n",
    "def open_experiment_data(path: str) -> (xr.Dataset, xr.Dataset, pd.DataFrame):\n",
    "    time_averaged_kinematics_ds = open_dataset(f\"{path}/time_averaged_kinematics.zarr\")\n",
    "    all_times_kinematics_ds = open_dataset(f\"{path}/all_times_kinematics.zarr\")\n",
    "    errors_to_drifters_df = pd.read_parquet(f\"{path}/errors_to_drifters.parquet\").drop_duplicates(\n",
    "        subset=[\"lat\", \"lon\", \"time\"]\n",
    "    )\n",
    "    return time_averaged_kinematics_ds, all_times_kinematics_ds, errors_to_drifters_df"
   ]
  },
  {
   "cell_type": "code",
   "execution_count": 5,
   "metadata": {},
   "outputs": [],
   "source": [
    "neurost_time_averaged_kinematics_ds, neurost_all_times_kinematics_ds, neurost_errors_to_drifters_df = (\n",
    "    open_experiment_data(NEUROST_PATH)\n",
    ")\n",
    "neurost_it_time_averaged_kinematics_ds, neurost_it_all_times_kinematics_ds, neurost_it_errors_to_drifters_df = (\n",
    "    open_experiment_data(NEUROST_IT_PATH)\n",
    ")\n",
    "_, duacs_all_times_kinematics_ds, duacs_errors_to_drifters_df = (\n",
    "    open_experiment_data(DUACS_PATH)\n",
    ")\n",
    "_, duacs_it_all_times_kinematics_ds, duacs_it_errors_to_drifters_df = (\n",
    "    open_experiment_data(DUACS_IT_PATH)\n",
    ")"
   ]
  },
  {
   "cell_type": "code",
   "execution_count": 6,
   "metadata": {},
   "outputs": [],
   "source": [
    "duacs_all_times_kinematics_ds = restrict_ds_to_neurost_timeperiod(duacs_all_times_kinematics_ds)\n",
    "duacs_errors_to_drifters_df = restrict_df_to_neurost_timeperiod(duacs_errors_to_drifters_df)\n",
    "duacs_it_all_times_kinematics_ds = restrict_ds_to_neurost_timeperiod(duacs_it_all_times_kinematics_ds)\n",
    "duacs_it_errors_to_drifters_df = restrict_df_to_neurost_timeperiod(duacs_it_errors_to_drifters_df)"
   ]
  },
  {
   "cell_type": "markdown",
   "metadata": {
    "jp-MarkdownHeadingCollapsed": true
   },
   "source": [
    "# Cyclogeostrophic imbalance"
   ]
  },
  {
   "cell_type": "code",
   "execution_count": 7,
   "metadata": {},
   "outputs": [],
   "source": [
    "# Can be adjusted to better align with system RAM & GPU\n",
    "CHUNKS = {\"time\": -1, \"latitude\": 100, \"longitude\": 200}\n",
    "\n",
    "\n",
    "def get_uv_imbalance_dataarrays(ds: xr.Dataset) -> (xr.DataArray, xr.DataArray):\n",
    "    imbalance_uv_Geostrophy = ds.imbalance_uv_Geostrophy\n",
    "    imbalance_uv_Geostrophy = imbalance_uv_Geostrophy.chunk(**CHUNKS)\n",
    "    imbalance_uv_Cyclogeostrophy = ds.imbalance_uv_Cyclogeostrophy\n",
    "    imbalance_uv_Cyclogeostrophy = imbalance_uv_Cyclogeostrophy.chunk(**CHUNKS)\n",
    "    return imbalance_uv_Geostrophy, imbalance_uv_Cyclogeostrophy"
   ]
  },
  {
   "cell_type": "code",
   "execution_count": 8,
   "metadata": {},
   "outputs": [],
   "source": [
    "neurost_imbalance_uv_Geostrophy, neurost_imbalance_uv_Cyclogeostrophy = get_uv_imbalance_dataarrays(\n",
    "    neurost_all_times_kinematics_ds\n",
    ")\n",
    "neurost_it_imbalance_uv_Geostrophy, neurost_it_imbalance_uv_Cyclogeostrophy = get_uv_imbalance_dataarrays(\n",
    "    neurost_it_all_times_kinematics_ds\n",
    ")\n",
    "duacs_imbalance_uv_Geostrophy, duacs_imbalance_uv_Cyclogeostrophy = get_uv_imbalance_dataarrays(\n",
    "    duacs_all_times_kinematics_ds\n",
    ")\n",
    "duacs_it_imbalance_uv_Geostrophy, duacs_it_imbalance_uv_Cyclogeostrophy = get_uv_imbalance_dataarrays(\n",
    "    duacs_it_all_times_kinematics_ds\n",
    ")"
   ]
  },
  {
   "cell_type": "code",
   "execution_count": 9,
   "metadata": {},
   "outputs": [],
   "source": [
    "N_DAYS = 7  # Iannou et al. used 5\n",
    "\n",
    "\n",
    "def apply_time_agregation(\n",
    "    imbalance_uv_Geostrophy: xr.DataArray, imbalance_uv_Cyclogeostrophy: xr.DataArray\n",
    ") -> (xr.DataArray, xr.DataArray):\n",
    "    imbalance_uv_Geostrophy = max_of_n_time_rolling_mean(imbalance_uv_Geostrophy, n_time=N_DAYS)\n",
    "    imbalance_uv_Cyclogeostrophy = max_of_n_time_rolling_mean(imbalance_uv_Cyclogeostrophy, n_time=N_DAYS)\n",
    "    return imbalance_uv_Geostrophy, imbalance_uv_Cyclogeostrophy"
   ]
  },
  {
   "cell_type": "code",
   "execution_count": 10,
   "metadata": {},
   "outputs": [],
   "source": [
    "neurost_imbalance_uv_Geostrophy, neurost_imbalance_uv_Cyclogeostrophy = apply_time_agregation(\n",
    "    neurost_imbalance_uv_Geostrophy, neurost_imbalance_uv_Cyclogeostrophy\n",
    ")\n",
    "neurost_it_imbalance_uv_Geostrophy, neurost_it_imbalance_uv_Cyclogeostrophy = apply_time_agregation(\n",
    "    neurost_it_imbalance_uv_Geostrophy, neurost_it_imbalance_uv_Cyclogeostrophy\n",
    ")\n",
    "duacs_imbalance_uv_Geostrophy, duacs_imbalance_uv_Cyclogeostrophy = apply_time_agregation(\n",
    "    duacs_imbalance_uv_Geostrophy, duacs_imbalance_uv_Cyclogeostrophy\n",
    ")\n",
    "duacs_it_imbalance_uv_Geostrophy, duacs_it_imbalance_uv_Cyclogeostrophy = apply_time_agregation(\n",
    "    duacs_it_imbalance_uv_Geostrophy, duacs_it_imbalance_uv_Cyclogeostrophy\n",
    ")"
   ]
  },
  {
   "cell_type": "code",
   "execution_count": 11,
   "metadata": {},
   "outputs": [],
   "source": [
    "def save_uv_imbalance_dataarrays(\n",
    "    imbalance_uv_Geostrophy: xr.DataArray, imbalance_uv_Cyclogeostrophy: xr.DataArray, experiment: str\n",
    "):\n",
    "    imbalance_uv_Geostrophy.to_netcdf(f\"{DATA_FILES_PATH}/{experiment}_imbalance_uv_Geostrophy.nc\")\n",
    "    imbalance_uv_Cyclogeostrophy.to_netcdf(f\"{DATA_FILES_PATH}/{experiment}_imbalance_uv_Cyclogeostrophy.nc\")"
   ]
  },
  {
   "cell_type": "code",
   "execution_count": 13,
   "metadata": {},
   "outputs": [
    {
     "name": "stderr",
     "output_type": "stream",
     "text": [
      "/home/bertrava/miniconda3/envs/cyclogeostrophy_impact_experiment/lib/python3.11/site-packages/dask/array/reductions.py:655: RuntimeWarning: All-NaN slice encountered\n",
      "  return np.nanmax(x_chunk, axis=axis, keepdims=keepdims)\n",
      "/home/bertrava/miniconda3/envs/cyclogeostrophy_impact_experiment/lib/python3.11/site-packages/dask/array/reductions.py:655: RuntimeWarning: All-NaN slice encountered\n",
      "  return np.nanmax(x_chunk, axis=axis, keepdims=keepdims)\n",
      "/home/bertrava/miniconda3/envs/cyclogeostrophy_impact_experiment/lib/python3.11/site-packages/dask/array/reductions.py:655: RuntimeWarning: All-NaN slice encountered\n",
      "  return np.nanmax(x_chunk, axis=axis, keepdims=keepdims)\n"
     ]
    }
   ],
   "source": [
    "save_uv_imbalance_dataarrays(\n",
    "    neurost_imbalance_uv_Geostrophy, neurost_imbalance_uv_Cyclogeostrophy, \"neurost\"\n",
    ")\n",
    "save_uv_imbalance_dataarrays(\n",
    "    neurost_it_imbalance_uv_Geostrophy, neurost_it_imbalance_uv_Cyclogeostrophy, \"neurost_it\"\n",
    ")\n",
    "save_uv_imbalance_dataarrays(\n",
    "    duacs_imbalance_uv_Geostrophy, duacs_imbalance_uv_Cyclogeostrophy, \"duacs\"\n",
    ")\n",
    "save_uv_imbalance_dataarrays(\n",
    "    duacs_it_imbalance_uv_Geostrophy, duacs_it_imbalance_uv_Cyclogeostrophy, \"duacs_it\"\n",
    ")"
   ]
  },
  {
   "cell_type": "markdown",
   "metadata": {
    "jp-MarkdownHeadingCollapsed": true
   },
   "source": [
    "# EKE relative difference"
   ]
  },
  {
   "cell_type": "code",
   "execution_count": 7,
   "metadata": {},
   "outputs": [],
   "source": [
    "def get_neurost_eke_diff_dataarray(ds: xr.Dataset) -> xr.DataArray:\n",
    "    return ds.eke_diff_rel_Cyclogeostrophy_Geostrophy"
   ]
  },
  {
   "cell_type": "code",
   "execution_count": 8,
   "metadata": {},
   "outputs": [],
   "source": [
    "neurost_eke_diff_rel_Cyclogeostrophy_Geostrophy = get_neurost_eke_diff_dataarray(neurost_time_averaged_kinematics_ds)\n",
    "neurost_it_eke_diff_rel_Cyclogeostrophy_Geostrophy = get_neurost_eke_diff_dataarray(\n",
    "    neurost_it_time_averaged_kinematics_ds\n",
    ")"
   ]
  },
  {
   "cell_type": "code",
   "execution_count": 9,
   "metadata": {},
   "outputs": [],
   "source": [
    "def get_duacs_eke_diff_dataarray(ds: xr.Dataset) -> xr.DataArray:\n",
    "    eke_Cyclogeostrophy = ds.eke_Cyclogeostrophy.mean(dim=\"time\")\n",
    "    eke_Geostrophy = ds.eke_Geostrophy.mean(dim=\"time\")\n",
    "    return (eke_Cyclogeostrophy - eke_Geostrophy) / eke_Geostrophy * 100"
   ]
  },
  {
   "cell_type": "code",
   "execution_count": 10,
   "metadata": {},
   "outputs": [],
   "source": [
    "duacs_eke_diff_rel_Cyclogeostrophy_Geostrophy = get_duacs_eke_diff_dataarray(duacs_all_times_kinematics_ds)\n",
    "duacs_it_eke_diff_rel_Cyclogeostrophy_Geostrophy = get_duacs_eke_diff_dataarray(duacs_it_all_times_kinematics_ds)"
   ]
  },
  {
   "cell_type": "code",
   "execution_count": 11,
   "metadata": {},
   "outputs": [],
   "source": [
    "def save_eke_diff_dataarray(da: xr.DataArray, experiment: str):\n",
    "    da.to_netcdf(f\"{DATA_FILES_PATH}/{experiment}_eke_diff_rel_Cyclogeostrophy_Geostrophy.nc\")"
   ]
  },
  {
   "cell_type": "code",
   "execution_count": 12,
   "metadata": {},
   "outputs": [],
   "source": [
    "save_eke_diff_dataarray(duacs_eke_diff_rel_Cyclogeostrophy_Geostrophy, \"duacs\")\n",
    "save_eke_diff_dataarray(duacs_it_eke_diff_rel_Cyclogeostrophy_Geostrophy, \"duacs_it\")"
   ]
  },
  {
   "cell_type": "code",
   "execution_count": 13,
   "metadata": {},
   "outputs": [],
   "source": [
    "save_eke_diff_dataarray(neurost_eke_diff_rel_Cyclogeostrophy_Geostrophy, \"neurost\")\n",
    "save_eke_diff_dataarray(neurost_it_eke_diff_rel_Cyclogeostrophy_Geostrophy, \"neurost_it\")\n",
    "save_eke_diff_dataarray(duacs_eke_diff_rel_Cyclogeostrophy_Geostrophy, \"duacs\")\n",
    "save_eke_diff_dataarray(duacs_it_eke_diff_rel_Cyclogeostrophy_Geostrophy, \"duacs_it\")"
   ]
  },
  {
   "cell_type": "markdown",
   "metadata": {},
   "source": [
    "# Ocean surface snapshots"
   ]
  },
  {
   "cell_type": "code",
   "execution_count": null,
   "metadata": {},
   "outputs": [],
   "source": [
    "SNAPSHOT_DAY = \"2015-05-16\"\n",
    "\n",
    "\n",
    "def get_snapshot(ds: xr.Dataset) -> xr.Dataset:\n",
    "    return ds[[\n",
    "        \"magn_Cyclogeostrophy\", \"magn_Geostrophy\", \n",
    "        \"nrv_Cyclogeostrophy\", \"nrv_Geostrophy\"\n",
    "    ]].sel(\n",
    "        time=SNAPSHOT_DAY\n",
    "    )"
   ]
  },
  {
   "cell_type": "code",
   "execution_count": null,
   "metadata": {},
   "outputs": [],
   "source": [
    "snapshot_neurost = get_snapshot(neurost_all_times_kinematics_ds)\n",
    "snapshot_neurost_it = get_snapshot(neurost_it_all_times_kinematics_ds)\n",
    "snapshot_duacs = get_snapshot(duacs_all_times_kinematics_ds)\n",
    "snapshot_duacs_it = get_snapshot(duacs_it_all_times_kinematics_ds)"
   ]
  },
  {
   "cell_type": "code",
   "execution_count": null,
   "metadata": {},
   "outputs": [],
   "source": [
    "def save_snapshot(snapshot_ds: xr.Dataset, experiment: str):\n",
    "    snapshot_ds.to_netcdf(f\"{DATA_FILES_PATH}/{experiment}_snapshot.nc\")"
   ]
  },
  {
   "cell_type": "code",
   "execution_count": null,
   "metadata": {},
   "outputs": [],
   "source": [
    "save_snapshot(snapshot_neurost, \"neurost\")\n",
    "save_snapshot(snapshot_neurost_it, \"neurost_it\")\n",
    "save_snapshot(snapshot_duacs, \"duacs\")\n",
    "save_snapshot(snapshot_duacs_it, \"duacs_it\")"
   ]
  },
  {
   "cell_type": "markdown",
   "metadata": {
    "jp-MarkdownHeadingCollapsed": true
   },
   "source": [
    "# Binned Sea Surface Currents errors to drifters"
   ]
  },
  {
   "cell_type": "code",
   "execution_count": 7,
   "metadata": {},
   "outputs": [],
   "source": [
    "neurost_errors_to_drifters_df = neurost_errors_to_drifters_df.merge(\n",
    "    duacs_errors_to_drifters_df[[\"lat\", \"lon\", \"time\"]], how=\"inner\", on=[\"lat\", \"lon\", \"time\"]\n",
    ")\n",
    "duacs_errors_to_drifters_df = duacs_errors_to_drifters_df.merge(\n",
    "    neurost_errors_to_drifters_df[[\"lat\", \"lon\", \"time\"]], how=\"inner\", on=[\"lat\", \"lon\", \"time\"]\n",
    ")\n",
    "neurost_it_errors_to_drifters_df = neurost_it_errors_to_drifters_df.merge(\n",
    "    duacs_errors_to_drifters_df[[\"lat\", \"lon\", \"time\"]], how=\"inner\", on=[\"lat\", \"lon\", \"time\"]\n",
    ")\n",
    "duacs_it_errors_to_drifters_df = duacs_it_errors_to_drifters_df.merge(\n",
    "    duacs_errors_to_drifters_df[[\"lat\", \"lon\", \"time\"]], how=\"inner\", on=[\"lat\", \"lon\", \"time\"]\n",
    ")"
   ]
  },
  {
   "cell_type": "code",
   "execution_count": 8,
   "metadata": {},
   "outputs": [],
   "source": [
    "BIN_SIZE = 1  # in °\n",
    "MIN_OBS = 200\n",
    "\n",
    "\n",
    "def get_spatial_binned_errors(df: pd.DataFrame) -> xr.Dataset:\n",
    "    latitude = np.arange(-90, 90, BIN_SIZE) + (BIN_SIZE / 2)\n",
    "    longitude = np.arange(-180, 180, BIN_SIZE) + (BIN_SIZE / 2)\n",
    "\n",
    "    ds = compute_spatial_binned_errors(df, latitude, longitude)\n",
    "    ds = remove_equatorial_band(ds)\n",
    "    ds = ds.where(ds[\"count\"] >= MIN_OBS)  # discard bins with \"too few\" observations\n",
    "\n",
    "    return ds"
   ]
  },
  {
   "cell_type": "code",
   "execution_count": 16,
   "metadata": {},
   "outputs": [],
   "source": [
    "neurost_spatial_binned_errors = get_spatial_binned_errors(neurost_errors_to_drifters_df)\n",
    "neurost_it_spatial_binned_errors = get_spatial_binned_errors(neurost_it_errors_to_drifters_df)\n",
    "duacs_spatial_binned_errors = get_spatial_binned_errors(duacs_errors_to_drifters_df)\n",
    "duacs_it_spatial_binned_errors = get_spatial_binned_errors(duacs_it_errors_to_drifters_df)"
   ]
  },
  {
   "cell_type": "code",
   "execution_count": 17,
   "metadata": {},
   "outputs": [],
   "source": [
    "def save_spatial_binned_errors_dataset(spatial_binned_errors_ds: xr.Dataset, experiment: str):\n",
    "    spatial_binned_errors_ds.to_netcdf(\n",
    "        f\"{DATA_FILES_PATH}/{experiment}_spatial_binned_errors_ds.nc\"\n",
    "    )"
   ]
  },
  {
   "cell_type": "code",
   "execution_count": 18,
   "metadata": {},
   "outputs": [],
   "source": [
    "save_spatial_binned_errors_dataset(neurost_spatial_binned_errors, \"neurost\")\n",
    "save_spatial_binned_errors_dataset(neurost_it_spatial_binned_errors, \"neurost_it\")\n",
    "save_spatial_binned_errors_dataset(duacs_spatial_binned_errors, \"duacs\")\n",
    "save_spatial_binned_errors_dataset(duacs_it_spatial_binned_errors, \"duacs_it\")"
   ]
  },
  {
   "cell_type": "markdown",
   "metadata": {},
   "source": [
    "# Sea Surface Currents errors to drifters as a function of EKE"
   ]
  },
  {
   "cell_type": "code",
   "execution_count": 9,
   "metadata": {},
   "outputs": [],
   "source": [
    "# To avoid interpolating EKE to drifters positions several times as it is very costly, we sort the DataFrames first\n",
    "neurost_errors_to_drifters_df = neurost_errors_to_drifters_df.sort_values(by=[\"time\", \"lon\", \"lat\"])\n",
    "neurost_it_errors_to_drifters_df = neurost_it_errors_to_drifters_df.sort_values(by=[\"time\", \"lon\", \"lat\"])\n",
    "duacs_errors_to_drifters_df = duacs_errors_to_drifters_df.sort_values(by=[\"time\", \"lon\", \"lat\"])\n",
    "duacs_it_errors_to_drifters_df = duacs_it_errors_to_drifters_df.sort_values(by=[\"time\", \"lon\", \"lat\"])"
   ]
  },
  {
   "cell_type": "code",
   "execution_count": 10,
   "metadata": {},
   "outputs": [],
   "source": [
    "# Chunking can be adjusted to better align with system RAM & GPU\n",
    "eke_Cyclogeostrophy = neurost_all_times_kinematics_ds.eke_Cyclogeostrophy.chunk(time=500, latitude=450, longitude=900)\n",
    "eke_Cyclogeostrophy.longitude.attrs[\"units\"] = \"degrees_east\"\n",
    "eke_Cyclogeostrophy.latitude.attrs[\"units\"] = \"degrees_north\"\n",
    "\n",
    "# Same for all\n",
    "eke_drifter_observations = gridded_eke_to_drifters_observations(eke_Cyclogeostrophy, neurost_errors_to_drifters_df)"
   ]
  },
  {
   "cell_type": "code",
   "execution_count": 11,
   "metadata": {},
   "outputs": [],
   "source": [
    "INTER_QUANTILE = .01\n",
    "\n",
    "eke_quantiles = np.quantile(\n",
    "    eke_drifter_observations[np.isfinite(eke_drifter_observations)], \n",
    "    np.arange(0, 1, INTER_QUANTILE) + (INTER_QUANTILE / 2)\n",
    ")"
   ]
  },
  {
   "cell_type": "code",
   "execution_count": null,
   "metadata": {},
   "outputs": [
    {
     "data": {
      "text/plain": [
       "(array([9351204.,  238674.,   64161.,   27302.]),\n",
       " array([0. , 0.1, 0.2, 0.3, 0.4]),\n",
       " <BarContainer object of 4 artists>)"
      ]
     },
     "metadata": {},
     "output_type": "display_data"
    },
    {
     "data": {
      "image/png": "[encoded data removed]",
      "text/plain": [
       "<Figure size 640x480 with 1 Axes>"
      ]
     },
     "metadata": {},
     "output_type": "display_data"
    }
   ],
   "source": [
    "import matplotlib.pyplot as plt\n",
    "\n",
    "plt.hist(\n",
    "    eke_drifter_observations[np.isfinite(eke_drifter_observations)],\n",
    "    edgecolor=\"black\",\n",
    "    bins=[0, 0.1, 0.2, 0.3, 0.4],\n",
    "    linewidth=0.5,\n",
    ")"
   ]
  },
  {
   "cell_type": "code",
   "execution_count": 14,
   "metadata": {},
   "outputs": [
    {
     "data": {
      "text/plain": [
       "array([2.52986160e-05, 6.25714328e-05, 9.98617194e-05, 1.38573700e-04,\n",
       "       1.79045726e-04, 2.21789248e-04, 2.66151296e-04, 3.12627988e-04,\n",
       "       3.61239984e-04, 4.12702827e-04, 4.65623600e-04, 5.21051115e-04,\n",
       "       5.78915532e-04, 6.38370709e-04, 7.00610475e-04, 7.65816722e-04,\n",
       "       8.33913794e-04, 9.03985740e-04, 9.76691873e-04, 1.05258083e-03,\n",
       "       1.13116940e-03, 1.21257432e-03, 1.29719258e-03, 1.38474233e-03,\n",
       "       1.47606654e-03, 1.56942342e-03, 1.66701231e-03, 1.76766465e-03,\n",
       "       1.87211852e-03, 1.97965484e-03, 2.09170433e-03, 2.20732323e-03,\n",
       "       2.32725880e-03, 2.45127177e-03, 2.57987694e-03, 2.71491487e-03,\n",
       "       2.85357598e-03, 2.99714466e-03, 3.14612630e-03, 3.30210752e-03,\n",
       "       3.46261249e-03, 3.63036576e-03, 3.80402133e-03, 3.98480832e-03,\n",
       "       4.17235426e-03, 4.36798793e-03, 4.57158542e-03, 4.78492790e-03,\n",
       "       5.00418833e-03, 5.23275610e-03, 5.47238577e-03, 5.72361591e-03,\n",
       "       5.98432978e-03, 6.25497783e-03, 6.53953885e-03, 6.83493263e-03,\n",
       "       7.14662697e-03, 7.47202170e-03, 7.81297459e-03, 8.17165563e-03,\n",
       "       8.54767710e-03, 8.94022606e-03, 9.35265928e-03, 9.78396002e-03,\n",
       "       1.02423998e-02, 1.07271221e-02, 1.12404264e-02, 1.17844276e-02,\n",
       "       1.23628657e-02, 1.29772618e-02, 1.36270937e-02, 1.43235666e-02,\n",
       "       1.50652796e-02, 1.58549403e-02, 1.66990643e-02, 1.76036620e-02,\n",
       "       1.85804493e-02, 1.96289321e-02, 2.07688035e-02, 2.19984961e-02,\n",
       "       2.33481277e-02, 2.48173601e-02, 2.64235347e-02, 2.81932778e-02,\n",
       "       3.01524643e-02, 3.23349654e-02, 3.47707344e-02, 3.75132054e-02,\n",
       "       4.06320764e-02, 4.41933862e-02, 4.83709465e-02, 5.33020550e-02,\n",
       "       5.92426696e-02, 6.65700509e-02, 7.58564597e-02, 8.81978373e-02,\n",
       "       1.05695835e-01, 1.33345451e-01, 1.85550856e-01, 3.50668967e-01])"
      ]
     },
     "execution_count": 14,
     "metadata": {},
     "output_type": "execute_result"
    }
   ],
   "source": [
    "eke_quantiles"
   ]
  },
  {
   "cell_type": "code",
   "execution_count": 30,
   "metadata": {},
   "outputs": [],
   "source": [
    "def extract_percentile_bins(df):\n",
    "    selected_entries = []\n",
    "\n",
    "    for i in [-11, -5, -2, -1]:\n",
    "        if i == 0:\n",
    "            lower = -np.inf\n",
    "        else:\n",
    "            lower = 0.5 * (eke_quantiles[i] + eke_quantiles[i - 1])\n",
    "        \n",
    "        if i == -1:\n",
    "            upper = np.inf\n",
    "        else:\n",
    "            upper = 0.5 * (eke_quantiles[i] + eke_quantiles[i + 1])\n",
    "        \n",
    "        entries_in_bin = df[(eke_drifter_observations >= lower) & (eke_drifter_observations < upper)]\n",
    "        entries_in_bin = entries_in_bin[[\"err_Cyclogeostrophy\", \"err_Geostrophy\"]]\n",
    "        entries_in_bin[\"eke\"] = eke_quantiles[i]\n",
    "        selected_entries.append(entries_in_bin)\n",
    "\n",
    "    return pd.concat(selected_entries, ignore_index=True)"
   ]
  },
  {
   "cell_type": "code",
   "execution_count": 31,
   "metadata": {},
   "outputs": [],
   "source": [
    "neurost_eke_errors = extract_percentile_bins(neurost_errors_to_drifters_df)\n",
    "neurost_it_eke_errors = extract_percentile_bins(neurost_it_errors_to_drifters_df)\n",
    "duacs_eke_errors = extract_percentile_bins(duacs_errors_to_drifters_df)\n",
    "duacs_it_eke_errors = extract_percentile_bins(duacs_it_errors_to_drifters_df)"
   ]
  },
  {
   "cell_type": "code",
   "execution_count": 32,
   "metadata": {},
   "outputs": [
    {
     "data": {
      "text/plain": [
       "array([0.04419339, 0.08819784, 0.18555086, 0.35066897])"
      ]
     },
     "execution_count": 32,
     "metadata": {},
     "output_type": "execute_result"
    }
   ],
   "source": [
    "neurost_eke_errors[\"eke\"].unique()"
   ]
  },
  {
   "cell_type": "code",
   "execution_count": 33,
   "metadata": {},
   "outputs": [],
   "source": [
    "def save_eke_errors(eke_errors: pd.DataFrame, experiment: str):\n",
    "    eke_errors.to_parquet(f\"{DATA_FILES_PATH}/{experiment}_eke_errors.parquet\")"
   ]
  },
  {
   "cell_type": "code",
   "execution_count": 34,
   "metadata": {},
   "outputs": [],
   "source": [
    "save_eke_errors(neurost_eke_errors, \"neurost\")\n",
    "save_eke_errors(neurost_it_eke_errors, \"neurost_it\")\n",
    "save_eke_errors(duacs_eke_errors, \"duacs\")\n",
    "save_eke_errors(duacs_it_eke_errors, \"duacs_it\")"
   ]
  },
  {
   "cell_type": "code",
   "execution_count": null,
   "metadata": {},
   "outputs": [],
   "source": [
    "def get_eke_binned_errors(errors_df) -> xr.Dataset:\n",
    "    return compute_eke_binned_errors(errors_df, eke_drifter_observations, eke_quantiles)"
   ]
  },
  {
   "cell_type": "code",
   "execution_count": 22,
   "metadata": {},
   "outputs": [],
   "source": [
    "neurost_eke_binned_errors = get_eke_binned_errors(neurost_errors_to_drifters_df)\n",
    "neurost_it_eke_binned_errors = get_eke_binned_errors(neurost_it_errors_to_drifters_df)\n",
    "duacs_eke_binned_errors = get_eke_binned_errors(duacs_errors_to_drifters_df)\n",
    "duacs_it_eke_binned_errors = get_eke_binned_errors(duacs_it_errors_to_drifters_df)"
   ]
  },
  {
   "cell_type": "code",
   "execution_count": 23,
   "metadata": {},
   "outputs": [],
   "source": [
    "def save_eke_binned_errors(eke_binned_errors: xr.Dataset, experiment: str):\n",
    "    eke_binned_errors.to_netcdf(f\"{DATA_FILES_PATH}/{experiment}_eke_binned_errors.nc\")"
   ]
  },
  {
   "cell_type": "code",
   "execution_count": 24,
   "metadata": {},
   "outputs": [],
   "source": [
    "save_eke_binned_errors(neurost_eke_binned_errors, \"neurost\")\n",
    "save_eke_binned_errors(neurost_it_eke_binned_errors, \"neurost_it\")\n",
    "save_eke_binned_errors(duacs_eke_binned_errors, \"duacs\")\n",
    "save_eke_binned_errors(duacs_it_eke_binned_errors, \"duacs_it\")"
   ]
  }
 ],
 "metadata": {
  "kernelspec": {
   "display_name": "cyclogeostrophy_impact_experiment",
   "language": "python",
   "name": "cyclogeostrophy_impact_experiment"
  },
  "language_info": {
   "codemirror_mode": {
    "name": "ipython",
    "version": 3
   },
   "file_extension": ".py",
   "mimetype": "text/x-python",
   "name": "python",
   "nbconvert_exporter": "python",
   "pygments_lexer": "ipython3",
   "version": "3.11.11"
  }
 },
 "nbformat": 4,
 "nbformat_minor": 4
}
